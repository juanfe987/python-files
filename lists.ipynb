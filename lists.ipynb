{
 "cells": [
  {
   "cell_type": "code",
   "execution_count": 2,
   "id": "f51c18c3",
   "metadata": {},
   "outputs": [],
   "source": [
    "def plus_ten(a):\n",
    "    return a+10"
   ]
  },
  {
   "cell_type": "code",
   "execution_count": 3,
   "id": "0490426d",
   "metadata": {},
   "outputs": [
    {
     "data": {
      "text/plain": [
       "18"
      ]
     },
     "execution_count": 3,
     "metadata": {},
     "output_type": "execute_result"
    }
   ],
   "source": [
    "plus_ten(8)"
   ]
  },
  {
   "cell_type": "code",
   "execution_count": 6,
   "id": "5108a580",
   "metadata": {},
   "outputs": [],
   "source": [
    "def plus_ten(a):\n",
    "    result = a+10\n",
    "    print (\"outcome\")\n",
    "    return result"
   ]
  },
  {
   "cell_type": "code",
   "execution_count": 7,
   "id": "ff6eef49",
   "metadata": {},
   "outputs": [
    {
     "name": "stdout",
     "output_type": "stream",
     "text": [
      "outcome\n"
     ]
    },
    {
     "data": {
      "text/plain": [
       "28"
      ]
     },
     "execution_count": 7,
     "metadata": {},
     "output_type": "execute_result"
    }
   ],
   "source": [
    "plus_ten(18)"
   ]
  },
  {
   "cell_type": "code",
   "execution_count": 8,
   "id": "39a2ac54",
   "metadata": {},
   "outputs": [],
   "source": [
    "def wage(w_hours):\n",
    "    return w_hours*25\n",
    "\n",
    "def with_bonus(w_hours):\n",
    "    return wage(w_hours) + 50"
   ]
  },
  {
   "cell_type": "code",
   "execution_count": 11,
   "id": "1cd4d8f5",
   "metadata": {},
   "outputs": [
    {
     "data": {
      "text/plain": [
       "(200, 250)"
      ]
     },
     "execution_count": 11,
     "metadata": {},
     "output_type": "execute_result"
    }
   ],
   "source": [
    "wage(8), with_bonus(8)"
   ]
  },
  {
   "cell_type": "code",
   "execution_count": 26,
   "id": "3756c35b",
   "metadata": {},
   "outputs": [],
   "source": [
    "def add_10(m):\n",
    "    if m >= 100:\n",
    "        m = m + 10\n",
    "        return m\n",
    "    else:\n",
    "         return \"save more\""
   ]
  },
  {
   "cell_type": "code",
   "execution_count": 27,
   "id": "a7dab51f",
   "metadata": {},
   "outputs": [],
   "source": [
    "def add_10(m):\n",
    "    if m >= 100:\n",
    "        m=m+10\n",
    "        return m\n",
    "    else:\n",
    "        return \"save more!\""
   ]
  },
  {
   "cell_type": "code",
   "execution_count": 24,
   "id": "6bc4b3ab",
   "metadata": {},
   "outputs": [
    {
     "data": {
      "text/plain": [
       "210"
      ]
     },
     "execution_count": 24,
     "metadata": {},
     "output_type": "execute_result"
    }
   ],
   "source": [
    "add_10(200)"
   ]
  },
  {
   "cell_type": "code",
   "execution_count": 25,
   "id": "1182b76a",
   "metadata": {},
   "outputs": [
    {
     "data": {
      "text/plain": [
       "'save more!'"
      ]
     },
     "execution_count": 25,
     "metadata": {},
     "output_type": "execute_result"
    }
   ],
   "source": [
    "add_10(50)"
   ]
  },
  {
   "cell_type": "code",
   "execution_count": 28,
   "id": "9ea01986",
   "metadata": {},
   "outputs": [
    {
     "data": {
      "text/plain": [
       "int"
      ]
     },
     "execution_count": 28,
     "metadata": {},
     "output_type": "execute_result"
    }
   ],
   "source": [
    "type(10)"
   ]
  },
  {
   "cell_type": "code",
   "execution_count": 29,
   "id": "5f207993",
   "metadata": {},
   "outputs": [
    {
     "data": {
      "text/plain": [
       "float"
      ]
     },
     "execution_count": 29,
     "metadata": {},
     "output_type": "execute_result"
    }
   ],
   "source": [
    "type(5.0)"
   ]
  },
  {
   "cell_type": "code",
   "execution_count": 30,
   "id": "4ea62543",
   "metadata": {},
   "outputs": [
    {
     "data": {
      "text/plain": [
       "3.0"
      ]
     },
     "execution_count": 30,
     "metadata": {},
     "output_type": "execute_result"
    }
   ],
   "source": [
    "float(3)"
   ]
  },
  {
   "cell_type": "code",
   "execution_count": 31,
   "id": "661bfcfc",
   "metadata": {},
   "outputs": [
    {
     "data": {
      "text/plain": [
       "'500'"
      ]
     },
     "execution_count": 31,
     "metadata": {},
     "output_type": "execute_result"
    }
   ],
   "source": [
    "str(500)"
   ]
  },
  {
   "cell_type": "code",
   "execution_count": 32,
   "id": "38f2e7cc",
   "metadata": {},
   "outputs": [
    {
     "data": {
      "text/plain": [
       "750"
      ]
     },
     "execution_count": 32,
     "metadata": {},
     "output_type": "execute_result"
    }
   ],
   "source": [
    "max(10,20,500,750)"
   ]
  },
  {
   "cell_type": "code",
   "execution_count": 33,
   "id": "6db33b13",
   "metadata": {},
   "outputs": [
    {
     "data": {
      "text/plain": [
       "0.2"
      ]
     },
     "execution_count": 33,
     "metadata": {},
     "output_type": "execute_result"
    }
   ],
   "source": [
    "min(1,50,0.2)"
   ]
  },
  {
   "cell_type": "code",
   "execution_count": 34,
   "id": "ce539a8a",
   "metadata": {},
   "outputs": [],
   "source": [
    "z=-5"
   ]
  },
  {
   "cell_type": "code",
   "execution_count": 35,
   "id": "9363e414",
   "metadata": {},
   "outputs": [
    {
     "data": {
      "text/plain": [
       "5"
      ]
     },
     "execution_count": 35,
     "metadata": {},
     "output_type": "execute_result"
    }
   ],
   "source": [
    "abs(z)"
   ]
  },
  {
   "cell_type": "code",
   "execution_count": 36,
   "id": "eb2e0c72",
   "metadata": {},
   "outputs": [],
   "source": [
    "list_1=[1,2,3,4,5]"
   ]
  },
  {
   "cell_type": "code",
   "execution_count": 37,
   "id": "a110e873",
   "metadata": {},
   "outputs": [
    {
     "data": {
      "text/plain": [
       "15"
      ]
     },
     "execution_count": 37,
     "metadata": {},
     "output_type": "execute_result"
    }
   ],
   "source": [
    "sum(list_1)"
   ]
  },
  {
   "cell_type": "code",
   "execution_count": 38,
   "id": "2781df64",
   "metadata": {},
   "outputs": [],
   "source": [
    "participants = ['john','leila','gregory','kate']"
   ]
  },
  {
   "cell_type": "code",
   "execution_count": 39,
   "id": "6f85de84",
   "metadata": {},
   "outputs": [
    {
     "data": {
      "text/plain": [
       "['john', 'leila', 'gregory', 'kate']"
      ]
     },
     "execution_count": 39,
     "metadata": {},
     "output_type": "execute_result"
    }
   ],
   "source": [
    "participants"
   ]
  },
  {
   "cell_type": "code",
   "execution_count": 40,
   "id": "ebc03a31",
   "metadata": {},
   "outputs": [
    {
     "data": {
      "text/plain": [
       "'kate'"
      ]
     },
     "execution_count": 40,
     "metadata": {},
     "output_type": "execute_result"
    }
   ],
   "source": [
    "participants[3]"
   ]
  },
  {
   "cell_type": "code",
   "execution_count": 43,
   "id": "f0c50857",
   "metadata": {},
   "outputs": [],
   "source": [
    "participants[3]= 'maria'"
   ]
  },
  {
   "cell_type": "code",
   "execution_count": 44,
   "id": "926c4fd0",
   "metadata": {},
   "outputs": [
    {
     "data": {
      "text/plain": [
       "['john', 'leila', 'gregory', 'maria']"
      ]
     },
     "execution_count": 44,
     "metadata": {},
     "output_type": "execute_result"
    }
   ],
   "source": [
    "participants"
   ]
  },
  {
   "cell_type": "code",
   "execution_count": 45,
   "id": "a3cf10c9",
   "metadata": {},
   "outputs": [
    {
     "data": {
      "text/plain": [
       "['john', 'leila', 'maria']"
      ]
     },
     "execution_count": 45,
     "metadata": {},
     "output_type": "execute_result"
    }
   ],
   "source": [
    "del participants[2]\n",
    "participants"
   ]
  },
  {
   "cell_type": "code",
   "execution_count": 46,
   "id": "91c60b74",
   "metadata": {},
   "outputs": [
    {
     "data": {
      "text/plain": [
       "['john', 'leila', 'maria', 'dan']"
      ]
     },
     "execution_count": 46,
     "metadata": {},
     "output_type": "execute_result"
    }
   ],
   "source": [
    "participants.append('dan')\n",
    "participants"
   ]
  },
  {
   "cell_type": "code",
   "execution_count": 47,
   "id": "fdd6d57f",
   "metadata": {},
   "outputs": [
    {
     "ename": "TypeError",
     "evalue": "list.append() takes exactly one argument (2 given)",
     "output_type": "error",
     "traceback": [
      "\u001b[1;31m---------------------------------------------------------------------------\u001b[0m",
      "\u001b[1;31mTypeError\u001b[0m                                 Traceback (most recent call last)",
      "\u001b[1;32m~\\AppData\\Local\\Temp/ipykernel_12608/1538261438.py\u001b[0m in \u001b[0;36m<module>\u001b[1;34m\u001b[0m\n\u001b[1;32m----> 1\u001b[1;33m \u001b[0mparticipants\u001b[0m\u001b[1;33m.\u001b[0m\u001b[0mappend\u001b[0m\u001b[1;33m(\u001b[0m\u001b[1;34m'george'\u001b[0m\u001b[1;33m,\u001b[0m\u001b[1;34m'luke'\u001b[0m\u001b[1;33m)\u001b[0m\u001b[1;33m\u001b[0m\u001b[1;33m\u001b[0m\u001b[0m\n\u001b[0m\u001b[0;32m      2\u001b[0m \u001b[0mparticipants\u001b[0m\u001b[1;33m\u001b[0m\u001b[1;33m\u001b[0m\u001b[0m\n",
      "\u001b[1;31mTypeError\u001b[0m: list.append() takes exactly one argument (2 given)"
     ]
    }
   ],
   "source": [
    "participants.append('george','luke')\n",
    "participants"
   ]
  },
  {
   "cell_type": "code",
   "execution_count": 48,
   "id": "3aac6bfe",
   "metadata": {},
   "outputs": [
    {
     "ename": "TypeError",
     "evalue": "list.extend() takes exactly one argument (2 given)",
     "output_type": "error",
     "traceback": [
      "\u001b[1;31m---------------------------------------------------------------------------\u001b[0m",
      "\u001b[1;31mTypeError\u001b[0m                                 Traceback (most recent call last)",
      "\u001b[1;32m~\\AppData\\Local\\Temp/ipykernel_12608/3368452741.py\u001b[0m in \u001b[0;36m<module>\u001b[1;34m\u001b[0m\n\u001b[1;32m----> 1\u001b[1;33m \u001b[0mparticipants\u001b[0m\u001b[1;33m.\u001b[0m\u001b[0mextend\u001b[0m\u001b[1;33m(\u001b[0m\u001b[1;34m'george'\u001b[0m\u001b[1;33m,\u001b[0m\u001b[1;34m'luke'\u001b[0m\u001b[1;33m)\u001b[0m\u001b[1;33m\u001b[0m\u001b[1;33m\u001b[0m\u001b[0m\n\u001b[0m\u001b[0;32m      2\u001b[0m \u001b[0mparticipants\u001b[0m\u001b[1;33m\u001b[0m\u001b[1;33m\u001b[0m\u001b[0m\n",
      "\u001b[1;31mTypeError\u001b[0m: list.extend() takes exactly one argument (2 given)"
     ]
    }
   ],
   "source": [
    "participants.extend('george','luke')\n",
    "participants"
   ]
  },
  {
   "cell_type": "code",
   "execution_count": 49,
   "id": "1d942987",
   "metadata": {},
   "outputs": [
    {
     "data": {
      "text/plain": [
       "['john', 'leila', 'maria', 'dan', 'george']"
      ]
     },
     "execution_count": 49,
     "metadata": {},
     "output_type": "execute_result"
    }
   ],
   "source": [
    "participants.append('george')\n",
    "participants"
   ]
  },
  {
   "cell_type": "code",
   "execution_count": 50,
   "id": "b9835c73",
   "metadata": {},
   "outputs": [
    {
     "data": {
      "text/plain": [
       "['john', 'leila', 'maria', 'dan', 'george', 'luke']"
      ]
     },
     "execution_count": 50,
     "metadata": {},
     "output_type": "execute_result"
    }
   ],
   "source": [
    "participants.append('luke')\n",
    "participants"
   ]
  },
  {
   "cell_type": "code",
   "execution_count": 51,
   "id": "a9b2f705",
   "metadata": {},
   "outputs": [
    {
     "data": {
      "text/plain": [
       "5"
      ]
     },
     "execution_count": 51,
     "metadata": {},
     "output_type": "execute_result"
    }
   ],
   "source": [
    "participants.index('luke')"
   ]
  },
  {
   "cell_type": "code",
   "execution_count": 53,
   "id": "5be6908f",
   "metadata": {},
   "outputs": [],
   "source": [
    "newcomers=['danie','mike']"
   ]
  },
  {
   "cell_type": "code",
   "execution_count": 54,
   "id": "f134a1f7",
   "metadata": {},
   "outputs": [],
   "source": [
    "bigger_list=[participants,newcomers]"
   ]
  },
  {
   "cell_type": "code",
   "execution_count": 55,
   "id": "dabdfb09",
   "metadata": {},
   "outputs": [
    {
     "data": {
      "text/plain": [
       "[['john', 'leila', 'maria', 'dan', 'george', 'luke'], ['danie', 'mike']]"
      ]
     },
     "execution_count": 55,
     "metadata": {},
     "output_type": "execute_result"
    }
   ],
   "source": [
    "bigger_list"
   ]
  },
  {
   "cell_type": "code",
   "execution_count": 1,
   "id": "71ba24fa",
   "metadata": {},
   "outputs": [],
   "source": [
    "x = 1,2,3"
   ]
  },
  {
   "cell_type": "code",
   "execution_count": 2,
   "id": "99d3f560",
   "metadata": {},
   "outputs": [
    {
     "data": {
      "text/plain": [
       "(1, 2, 3)"
      ]
     },
     "execution_count": 2,
     "metadata": {},
     "output_type": "execute_result"
    }
   ],
   "source": [
    "x"
   ]
  },
  {
   "cell_type": "code",
   "execution_count": 3,
   "id": "9ced2551",
   "metadata": {},
   "outputs": [],
   "source": [
    "a,b,c,=5,56,8"
   ]
  },
  {
   "cell_type": "code",
   "execution_count": 4,
   "id": "02443621",
   "metadata": {},
   "outputs": [
    {
     "data": {
      "text/plain": [
       "5"
      ]
     },
     "execution_count": 4,
     "metadata": {},
     "output_type": "execute_result"
    }
   ],
   "source": [
    "a"
   ]
  },
  {
   "cell_type": "code",
   "execution_count": 5,
   "id": "57a4615a",
   "metadata": {},
   "outputs": [
    {
     "data": {
      "text/plain": [
       "56"
      ]
     },
     "execution_count": 5,
     "metadata": {},
     "output_type": "execute_result"
    }
   ],
   "source": [
    "b"
   ]
  },
  {
   "cell_type": "code",
   "execution_count": 6,
   "id": "be532e8a",
   "metadata": {},
   "outputs": [
    {
     "data": {
      "text/plain": [
       "8"
      ]
     },
     "execution_count": 6,
     "metadata": {},
     "output_type": "execute_result"
    }
   ],
   "source": [
    "c"
   ]
  },
  {
   "cell_type": "code",
   "execution_count": 7,
   "id": "6d333df7",
   "metadata": {},
   "outputs": [
    {
     "data": {
      "text/plain": [
       "(5, 56, 8)"
      ]
     },
     "execution_count": 7,
     "metadata": {},
     "output_type": "execute_result"
    }
   ],
   "source": [
    "a,b,c"
   ]
  },
  {
   "cell_type": "code",
   "execution_count": 9,
   "id": "2d13303b",
   "metadata": {},
   "outputs": [],
   "source": [
    "def square_info(x):\n",
    "    A = x**2\n",
    "    P = 4*x\n",
    "    print(\"Area and perimeter:\")\n",
    "    return A,P\n"
   ]
  },
  {
   "cell_type": "code",
   "execution_count": 11,
   "id": "1c9d119a",
   "metadata": {},
   "outputs": [
    {
     "name": "stdout",
     "output_type": "stream",
     "text": [
      "Area and perimeter\n"
     ]
    },
    {
     "data": {
      "text/plain": [
       "(64, 32)"
      ]
     },
     "execution_count": 11,
     "metadata": {},
     "output_type": "execute_result"
    }
   ],
   "source": [
    "square_info(8)"
   ]
  },
  {
   "cell_type": "code",
   "execution_count": 12,
   "id": "95c3a2d6",
   "metadata": {},
   "outputs": [
    {
     "data": {
      "text/plain": [
       "[0, 2, 4, 6, 8, 10, 12, 14, 16, 18, 20]"
      ]
     },
     "execution_count": 12,
     "metadata": {},
     "output_type": "execute_result"
    }
   ],
   "source": [
    "even =[0,2,4,6,8,10,12,14,16,18,20]\n",
    "even"
   ]
  },
  {
   "cell_type": "code",
   "execution_count": 14,
   "id": "a9dc058e",
   "metadata": {},
   "outputs": [
    {
     "name": "stdout",
     "output_type": "stream",
     "text": [
      "0 2 4 6 8 10 12 14 16 18 20 "
     ]
    }
   ],
   "source": [
    "for n in even:\n",
    "    print(n, end = \" \")"
   ]
  },
  {
   "cell_type": "code",
   "execution_count": null,
   "id": "d938840e",
   "metadata": {},
   "outputs": [],
   "source": [
    "x = 0\n",
    "while x<=20:\n",
    "    print (x, end = \" \")\n",
    "    x= x + 2"
   ]
  },
  {
   "cell_type": "code",
   "execution_count": 2,
   "id": "75010c71",
   "metadata": {},
   "outputs": [
    {
     "name": "stdout",
     "output_type": "stream",
     "text": [
      "0 2 4 6 8 10 12 14 16 18 20 "
     ]
    }
   ],
   "source": [
    "x = 0\n",
    "while x<=20:\n",
    "    print (x, end = \" \")\n",
    "    x += 2"
   ]
  },
  {
   "cell_type": "code",
   "execution_count": 1,
   "id": "d1a147b0",
   "metadata": {},
   "outputs": [
    {
     "name": "stdout",
     "output_type": "stream",
     "text": [
      "0 2 4 6 8 10 12 14 16 18 20 "
     ]
    }
   ],
   "source": [
    "x = 0\n",
    "while x<=20:\n",
    "    print (x, end = \" \")\n",
    "    x= x + 2"
   ]
  },
  {
   "cell_type": "code",
   "execution_count": 3,
   "id": "8e6f2de9",
   "metadata": {},
   "outputs": [
    {
     "data": {
      "text/plain": [
       "22"
      ]
     },
     "execution_count": 3,
     "metadata": {},
     "output_type": "execute_result"
    }
   ],
   "source": [
    "x"
   ]
  },
  {
   "cell_type": "code",
   "execution_count": 4,
   "id": "c305ea59",
   "metadata": {},
   "outputs": [
    {
     "data": {
      "text/plain": [
       "range(0, 10)"
      ]
     },
     "execution_count": 4,
     "metadata": {},
     "output_type": "execute_result"
    }
   ],
   "source": [
    "range(10)"
   ]
  },
  {
   "cell_type": "code",
   "execution_count": 5,
   "id": "15ff7555",
   "metadata": {},
   "outputs": [
    {
     "data": {
      "text/plain": [
       "[0, 1, 2, 3, 4, 5, 6, 7, 8, 9]"
      ]
     },
     "execution_count": 5,
     "metadata": {},
     "output_type": "execute_result"
    }
   ],
   "source": [
    "list(range(10))"
   ]
  },
  {
   "cell_type": "code",
   "execution_count": 6,
   "id": "8643ac07",
   "metadata": {},
   "outputs": [
    {
     "data": {
      "text/plain": [
       "[3, 4, 5, 6]"
      ]
     },
     "execution_count": 6,
     "metadata": {},
     "output_type": "execute_result"
    }
   ],
   "source": [
    "list(range(3,7))"
   ]
  },
  {
   "cell_type": "code",
   "execution_count": 7,
   "id": "93d39179",
   "metadata": {},
   "outputs": [
    {
     "data": {
      "text/plain": [
       "[1, 3, 5, 7, 9, 11, 13, 15, 17, 19]"
      ]
     },
     "execution_count": 7,
     "metadata": {},
     "output_type": "execute_result"
    }
   ],
   "source": [
    "list(range(1,20,2))"
   ]
  },
  {
   "cell_type": "code",
   "execution_count": 10,
   "id": "9a8264e2",
   "metadata": {},
   "outputs": [
    {
     "name": "stdout",
     "output_type": "stream",
     "text": [
      "1 2 4 8 16 32 64 128 256 512 "
     ]
    }
   ],
   "source": [
    "for n in range(10):\n",
    "    print (2**n , end =\" \")"
   ]
  },
  {
   "cell_type": "code",
   "execution_count": 16,
   "id": "eca01049",
   "metadata": {},
   "outputs": [
    {
     "name": "stdout",
     "output_type": "stream",
     "text": [
      "0 odd 2 odd 4 odd 6 odd 8 odd 10 odd 12 odd 14 odd 16 odd 18 odd "
     ]
    }
   ],
   "source": [
    "for x in range(20):\n",
    "    if x % 2 == 0:\n",
    "        print (x , end =\" \")\n",
    "    else: \n",
    "        print(\"odd\",  end =\" \")"
   ]
  },
  {
   "cell_type": "code",
   "execution_count": 17,
   "id": "7eafddb5",
   "metadata": {},
   "outputs": [],
   "source": [
    "def count(numbers):\n",
    "    total=0\n",
    "    for x in numbers:\n",
    "        if x <20:\n",
    "            total=total+1\n",
    "    return total\n",
    "            "
   ]
  },
  {
   "cell_type": "code",
   "execution_count": 20,
   "id": "eb90bc99",
   "metadata": {},
   "outputs": [],
   "source": [
    "list=[8,10,26,60,2,91]"
   ]
  },
  {
   "cell_type": "code",
   "execution_count": 21,
   "id": "13cbd61f",
   "metadata": {},
   "outputs": [
    {
     "data": {
      "text/plain": [
       "3"
      ]
     },
     "execution_count": 21,
     "metadata": {},
     "output_type": "execute_result"
    }
   ],
   "source": [
    "count(list)"
   ]
  },
  {
   "cell_type": "code",
   "execution_count": null,
   "id": "824bb7c4",
   "metadata": {},
   "outputs": [],
   "source": []
  }
 ],
 "metadata": {
  "kernelspec": {
   "display_name": "Python 3 (ipykernel)",
   "language": "python",
   "name": "python3"
  },
  "language_info": {
   "codemirror_mode": {
    "name": "ipython",
    "version": 3
   },
   "file_extension": ".py",
   "mimetype": "text/x-python",
   "name": "python",
   "nbconvert_exporter": "python",
   "pygments_lexer": "ipython3",
   "version": "3.9.7"
  }
 },
 "nbformat": 4,
 "nbformat_minor": 5
}
