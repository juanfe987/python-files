{
 "cells": [
  {
   "cell_type": "code",
   "execution_count": 4,
   "id": "b0c10ebf",
   "metadata": {},
   "outputs": [],
   "source": [
    "filename = \"C:/Users/felip/Python class/source.txt\""
   ]
  },
  {
   "cell_type": "code",
   "execution_count": 5,
   "id": "ca46a9ac",
   "metadata": {},
   "outputs": [],
   "source": [
    "file = open(filename , mode ='r')"
   ]
  },
  {
   "cell_type": "code",
   "execution_count": 6,
   "id": "d1641dfb",
   "metadata": {},
   "outputs": [
    {
     "data": {
      "text/plain": [
       "<_io.TextIOWrapper name='C:/Users/felip/Python class/source.txt' mode='r' encoding='cp1252'>"
      ]
     },
     "execution_count": 6,
     "metadata": {},
     "output_type": "execute_result"
    }
   ],
   "source": [
    "file"
   ]
  },
  {
   "cell_type": "code",
   "execution_count": 7,
   "id": "82cba9ce",
   "metadata": {},
   "outputs": [
    {
     "data": {
      "text/plain": [
       "'plain text'"
      ]
     },
     "execution_count": 7,
     "metadata": {},
     "output_type": "execute_result"
    }
   ],
   "source": [
    "file.read()"
   ]
  },
  {
   "cell_type": "code",
   "execution_count": 14,
   "id": "fc5f8c9b",
   "metadata": {},
   "outputs": [
    {
     "data": {
      "text/plain": [
       "'plain text'"
      ]
     },
     "execution_count": 14,
     "metadata": {},
     "output_type": "execute_result"
    }
   ],
   "source": [
    "file = open(filename , mode ='r')\n",
    "file = file.read()\n",
    "file"
   ]
  },
  {
   "cell_type": "code",
   "execution_count": 19,
   "id": "a2a34617",
   "metadata": {},
   "outputs": [],
   "source": [
    "with open(filename , mode ='r') as out_file: out_file.read()"
   ]
  },
  {
   "cell_type": "code",
   "execution_count": 21,
   "id": "5756c8c8",
   "metadata": {},
   "outputs": [
    {
     "name": "stdout",
     "output_type": "stream",
     "text": [
      "<_io.TextIOWrapper name='C:/Users/felip/Python class/source.txt' mode='r' encoding='cp1252'>\n"
     ]
    }
   ],
   "source": [
    "print(out_file)"
   ]
  },
  {
   "cell_type": "code",
   "execution_count": 22,
   "id": "58337e43",
   "metadata": {},
   "outputs": [],
   "source": [
    "with open(filename , 'w') as out_file: out_file.write(\"it is not simple anymore\")"
   ]
  },
  {
   "cell_type": "code",
   "execution_count": 23,
   "id": "122d5855",
   "metadata": {},
   "outputs": [
    {
     "name": "stdout",
     "output_type": "stream",
     "text": [
      "<_io.TextIOWrapper name='C:/Users/felip/Python class/source.txt' mode='w' encoding='cp1252'>\n"
     ]
    }
   ],
   "source": [
    "print(out_file)"
   ]
  },
  {
   "cell_type": "code",
   "execution_count": 24,
   "id": "47626233",
   "metadata": {},
   "outputs": [
    {
     "name": "stdout",
     "output_type": "stream",
     "text": [
      "it is not simple anymore\n"
     ]
    }
   ],
   "source": [
    "with open(filename , mode ='r') as out_file:\n",
    "    new_text = out_file.read()\n",
    "    print(new_text)"
   ]
  },
  {
   "cell_type": "code",
   "execution_count": null,
   "id": "67c57061",
   "metadata": {},
   "outputs": [],
   "source": []
  }
 ],
 "metadata": {
  "kernelspec": {
   "display_name": "Python 3 (ipykernel)",
   "language": "python",
   "name": "python3"
  },
  "language_info": {
   "codemirror_mode": {
    "name": "ipython",
    "version": 3
   },
   "file_extension": ".py",
   "mimetype": "text/x-python",
   "name": "python",
   "nbconvert_exporter": "python",
   "pygments_lexer": "ipython3",
   "version": "3.9.7"
  }
 },
 "nbformat": 4,
 "nbformat_minor": 5
}
