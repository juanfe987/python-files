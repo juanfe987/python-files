{
 "cells": [
  {
   "cell_type": "markdown",
   "metadata": {},
   "source": [
    "## Importing Data with NumPy"
   ]
  },
  {
   "cell_type": "markdown",
   "metadata": {},
   "source": [
    "### 1. Run the following cells:"
   ]
  },
  {
   "cell_type": "code",
   "execution_count": 1,
   "metadata": {},
   "outputs": [],
   "source": [
    "import numpy as np"
   ]
  },
  {
   "cell_type": "code",
   "execution_count": 2,
   "metadata": {},
   "outputs": [],
   "source": [
    "np.set_printoptions(suppress = True, linewidth = 150)"
   ]
  },
  {
   "cell_type": "markdown",
   "metadata": {},
   "source": [
    "### 2. Use loadtxt() to import the same file and display its contents. \n",
    "   <b> Hint:</b> By default np.loadtxt() asusmes all the values will be numeric, so it crashes when it encounters text data. We can bypass this by specifying the datatype to NumPy strings when importing. "
   ]
  },
  {
   "cell_type": "code",
   "execution_count": 3,
   "metadata": {},
   "outputs": [
    {
     "name": "stderr",
     "output_type": "stream",
     "text": [
      "C:\\Users\\felip\\AppData\\Local\\Temp/ipykernel_17760/2627631846.py:3: DeprecationWarning: `np.str` is a deprecated alias for the builtin `str`. To silence this warning, use `str` by itself. Doing this will not modify any behavior and is safe. If you specifically wanted the numpy scalar type, use `np.str_` here.\n",
      "Deprecated in NumPy 1.20; for more details and guidance: https://numpy.org/devdocs/release/1.20.0-notes.html#deprecations\n",
      "  dtype = np.str)\n"
     ]
    },
    {
     "data": {
      "text/plain": [
       "array([['2000', '40', '365', '3121', '4241', '13621'],\n",
       "       ['2000', '40', '365', '3061', '4171', '15041'],\n",
       "       ['1000', '40', '365', '2160', '3280', '15340'],\n",
       "       ...,\n",
       "       ['', '40', '365', '4201', '5001', '16600'],\n",
       "       ['1000', '40', '365', '2080', '3320', '15600'],\n",
       "       ['2000', '40', '365', '4601', '4601', '16600']], dtype='<U5')"
      ]
     },
     "execution_count": 3,
     "metadata": {},
     "output_type": "execute_result"
    }
   ],
   "source": [
    "lending_co_data_numeric_NAN = np.loadtxt(\"Lending-Company-Numeric-Data-NAN.csv\", \n",
    "                                         delimiter = ';',\n",
    "                                         dtype = np.str)\n",
    "lending_co_data_numeric_NAN"
   ]
  },
  {
   "cell_type": "code",
   "execution_count": null,
   "metadata": {},
   "outputs": [],
   "source": []
  },
  {
   "cell_type": "markdown",
   "metadata": {},
   "source": [
    "### 3. Use np.genfromtxt() to import the \"Lending-Company-Total-Price.csv\" file and display its contents.\n",
    "    You can open the file in a text editor like Notepad++ to check its delimiter. "
   ]
  },
  {
   "cell_type": "code",
   "execution_count": null,
   "metadata": {},
   "outputs": [],
   "source": []
  },
  {
   "cell_type": "code",
   "execution_count": null,
   "metadata": {},
   "outputs": [],
   "source": []
  },
  {
   "cell_type": "markdown",
   "metadata": {},
   "source": [
    "### 4. Using the arguments of the np.genfromtxt() function, do the following data cleaning:\n",
    "    A) Set the data type to strings. \n",
    "    B) Skip the first row of the dataset. \n",
    "    C) Skip the last 15 rows of the dataset. \n",
    "    D) Only pull data from the 2nd, 3rd and 5th columns. \n",
    "   (Note: You can do all of these at the same time.)"
   ]
  },
  {
   "cell_type": "code",
   "execution_count": 9,
   "metadata": {},
   "outputs": [
    {
     "name": "stderr",
     "output_type": "stream",
     "text": [
      "C:\\Users\\felip\\AppData\\Local\\Temp/ipykernel_17760/3844336097.py:3: DeprecationWarning: `np.str` is a deprecated alias for the builtin `str`. To silence this warning, use `str` by itself. Doing this will not modify any behavior and is safe. If you specifically wanted the numpy scalar type, use `np.str_` here.\n",
      "Deprecated in NumPy 1.20; for more details and guidance: https://numpy.org/devdocs/release/1.20.0-notes.html#deprecations\n",
      "  dtype = np.str,\n"
     ]
    },
    {
     "data": {
      "text/plain": [
       "array([['365', '3061', '15041'],\n",
       "       ['365', '2160', '15340'],\n",
       "       ['365', '3041', '15321'],\n",
       "       ...,\n",
       "       ['365', '2480', '15600'],\n",
       "       ['', '3401', '16600'],\n",
       "       ['365', '3401', '20250']], dtype='<U5')"
      ]
     },
     "execution_count": 9,
     "metadata": {},
     "output_type": "execute_result"
    }
   ],
   "source": [
    "lending_co_data_numeric_NAN = np.genfromtxt(\"Lending-Company-Numeric-Data-NAN.csv\", \n",
    "                                            delimiter = ';',\n",
    "                                            dtype = np.str,\n",
    "                                            \n",
    "                                            skip_header = 1, \n",
    "                                            skip_footer = 15,\n",
    "                                           usecols = (2,3,5)) \n",
    "lending_co_data_numeric_NAN\n",
    "\n",
    "# We can define all these arguments (and many more) together to only import what we want. "
   ]
  },
  {
   "cell_type": "markdown",
   "metadata": {},
   "source": [
    "### 5. Refer to the documentation of the np.genfromtxt() function and examine the following arguments and what they do:\n",
    "    A) comments\n",
    "    B) converters \n",
    "    C) missing_values\n",
    "    D) excludelist\n",
    "    E) deletechars\n",
    "    D) replace_space \n",
    "    E) autostrip\n",
    "   (You're <b>not</b> expected to provide any coding for this part. The cell below is provided for your convenience in case you want to try using the arguments as you go through them.)"
   ]
  },
  {
   "cell_type": "code",
   "execution_count": null,
   "metadata": {},
   "outputs": [],
   "source": [
    "np.genfromtxt(comments=)"
   ]
  },
  {
   "cell_type": "markdown",
   "metadata": {},
   "source": [
    "### 6. Now that you understand what these arguments do, add them to the code you wrote a few cells ago. \n",
    "    A) comments\n",
    "    B) converters \n",
    "    C) missing_values\n",
    "    D) excludelist\n",
    "    E) deletechars\n",
    "    D) replace_space \n",
    "    E) autostrip\n",
    "   <b>Note</b>: If you don't know what values to set, just refer to the documentation and set the defaults. "
   ]
  },
  {
   "cell_type": "code",
   "execution_count": null,
   "metadata": {},
   "outputs": [],
   "source": []
  },
  {
   "cell_type": "markdown",
   "metadata": {},
   "source": [
    "### 7. The first and last columns were the only ones with numeric data, so let's import only them."
   ]
  },
  {
   "cell_type": "code",
   "execution_count": 10,
   "metadata": {},
   "outputs": [
    {
     "name": "stderr",
     "output_type": "stream",
     "text": [
      "C:\\Users\\felip\\AppData\\Local\\Temp/ipykernel_17760/2932036513.py:3: DeprecationWarning: `np.str` is a deprecated alias for the builtin `str`. To silence this warning, use `str` by itself. Doing this will not modify any behavior and is safe. If you specifically wanted the numpy scalar type, use `np.str_` here.\n",
      "Deprecated in NumPy 1.20; for more details and guidance: https://numpy.org/devdocs/release/1.20.0-notes.html#deprecations\n",
      "  dtype = np.str,\n"
     ]
    },
    {
     "data": {
      "text/plain": [
       "array([['40', '13621'],\n",
       "       ['40', '15041'],\n",
       "       ['40', '15340'],\n",
       "       ...,\n",
       "       ['40', '16600'],\n",
       "       ['40', '15600'],\n",
       "       ['40', '16600']], dtype='<U5')"
      ]
     },
     "execution_count": 10,
     "metadata": {},
     "output_type": "execute_result"
    }
   ],
   "source": [
    "lending_co_data_numeric_NAN = np.genfromtxt(\"Lending-Company-Numeric-Data-NAN.csv\", \n",
    "                                            delimiter = ';',\n",
    "                                            dtype = np.str,\n",
    "                                           usecols = (1,5)) \n",
    "lending_co_data_numeric_NAN\n",
    "\n",
    "# We can define all these arguments (and many more) together to only import what we want. "
   ]
  },
  {
   "cell_type": "code",
   "execution_count": null,
   "metadata": {},
   "outputs": [],
   "source": []
  }
 ],
 "metadata": {
  "kernelspec": {
   "display_name": "Python 3 (ipykernel)",
   "language": "python",
   "name": "python3"
  },
  "language_info": {
   "codemirror_mode": {
    "name": "ipython",
    "version": 3
   },
   "file_extension": ".py",
   "mimetype": "text/x-python",
   "name": "python",
   "nbconvert_exporter": "python",
   "pygments_lexer": "ipython3",
   "version": "3.9.7"
  }
 },
 "nbformat": 4,
 "nbformat_minor": 2
}
