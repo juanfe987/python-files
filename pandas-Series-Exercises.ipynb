{
 "cells": [
  {
   "cell_type": "markdown",
   "metadata": {},
   "source": [
    "<hr style=\"border:5px solid #108999\"> </hr>"
   ]
  },
  {
   "cell_type": "markdown",
   "metadata": {},
   "source": [
    "# pandas Series <hr style=\"border:4.5px solid #108999\"> </hr>"
   ]
  },
  {
   "cell_type": "markdown",
   "metadata": {},
   "source": [
    "For starters, import the pandas library, using the relevant well-known convention."
   ]
  },
  {
   "cell_type": "code",
   "execution_count": 2,
   "metadata": {},
   "outputs": [],
   "source": [
    "import pandas as pd"
   ]
  },
  {
   "cell_type": "markdown",
   "metadata": {},
   "source": [
    "## .unique() & .nunique()"
   ]
  },
  {
   "cell_type": "markdown",
   "metadata": {},
   "source": [
    "Load the \"Region.csv\" file and set the *squeeze* option to *True*. Store the information in a variable called **region_data**. Preview the data with the pandas *.head()* method."
   ]
  },
  {
   "cell_type": "code",
   "execution_count": 3,
   "metadata": {},
   "outputs": [
    {
     "name": "stderr",
     "output_type": "stream",
     "text": [
      "C:\\Users\\felip\\AppData\\Local\\Temp/ipykernel_10448/4210519499.py:1: FutureWarning: The squeeze argument has been deprecated and will be removed in a future version. Append .squeeze(\"columns\") to the call to squeeze.\n",
      "\n",
      "\n",
      "  data = pd.read_csv('Location.csv', squeeze = True)\n"
     ]
    },
    {
     "data": {
      "text/plain": [
       "0     Location 3\n",
       "1     Location 6\n",
       "2     Location 8\n",
       "3    Location 26\n",
       "4    Location 34\n",
       "Name: Location, dtype: object"
      ]
     },
     "execution_count": 3,
     "metadata": {},
     "output_type": "execute_result"
    }
   ],
   "source": [
    "data = pd.read_csv('Location.csv', squeeze = True)\n",
    "region_data = data.copy()\n",
    "region_data.head()"
   ]
  },
  {
   "cell_type": "markdown",
   "metadata": {},
   "source": [
    "Verify that **region_data** is a Series object."
   ]
  },
  {
   "cell_type": "code",
   "execution_count": 4,
   "metadata": {},
   "outputs": [
    {
     "data": {
      "text/plain": [
       "pandas.core.series.Series"
      ]
     },
     "execution_count": 4,
     "metadata": {},
     "output_type": "execute_result"
    }
   ],
   "source": [
    "type(region_data)"
   ]
  },
  {
   "cell_type": "markdown",
   "metadata": {},
   "source": [
    "Use the *.describe()* method to obtain descriptive statistics on the **region_data** Series.\n",
    "<br>Think of how many unique values there are in the data set. \n",
    "<br>*Please note that the statistics provided in the output exclude missing data.*"
   ]
  },
  {
   "cell_type": "code",
   "execution_count": 6,
   "metadata": {},
   "outputs": [
    {
     "data": {
      "text/plain": [
       "count            1043\n",
       "unique            296\n",
       "top       Location 25\n",
       "freq               31\n",
       "Name: Location, dtype: object"
      ]
     },
     "execution_count": 6,
     "metadata": {},
     "output_type": "execute_result"
    }
   ],
   "source": [
    "region_data.describe()"
   ]
  },
  {
   "cell_type": "markdown",
   "metadata": {},
   "source": [
    "You can obtain some of the values from the previous output by using Python built-in functions or methods. Please extract the total number of values from the **region_data** Series, then the number of unique values. Finally, obtain a list containing all unique values from this Series."
   ]
  },
  {
   "cell_type": "code",
   "execution_count": 7,
   "metadata": {},
   "outputs": [
    {
     "data": {
      "text/plain": [
       "1043"
      ]
     },
     "execution_count": 7,
     "metadata": {},
     "output_type": "execute_result"
    }
   ],
   "source": [
    "len(region_data)"
   ]
  },
  {
   "cell_type": "markdown",
   "metadata": {},
   "source": [
    "## .sort_values()"
   ]
  },
  {
   "cell_type": "markdown",
   "metadata": {},
   "source": [
    "Load the \"Region.csv\" file and set the *squeeze* option to *True*. Store the information in a variable called **region_data**. Preview the data with the pandas *.head()* method."
   ]
  },
  {
   "cell_type": "code",
   "execution_count": 8,
   "metadata": {},
   "outputs": [
    {
     "name": "stderr",
     "output_type": "stream",
     "text": [
      "C:\\Users\\felip\\AppData\\Local\\Temp/ipykernel_10448/4210519499.py:1: FutureWarning: The squeeze argument has been deprecated and will be removed in a future version. Append .squeeze(\"columns\") to the call to squeeze.\n",
      "\n",
      "\n",
      "  data = pd.read_csv('Location.csv', squeeze = True)\n"
     ]
    },
    {
     "data": {
      "text/plain": [
       "0     Location 3\n",
       "1     Location 6\n",
       "2     Location 8\n",
       "3    Location 26\n",
       "4    Location 34\n",
       "Name: Location, dtype: object"
      ]
     },
     "execution_count": 8,
     "metadata": {},
     "output_type": "execute_result"
    }
   ],
   "source": [
    "data = pd.read_csv('Location.csv', squeeze = True)\n",
    "region_data = data.copy()\n",
    "region_data.head()"
   ]
  },
  {
   "cell_type": "markdown",
   "metadata": {},
   "source": [
    "Sort the values without specifying any arguments."
   ]
  },
  {
   "cell_type": "markdown",
   "metadata": {},
   "source": [
    "*Please note that the numbers go from 1 to 18, but we are currently ordering the values as labels, not integers. 1 is succeeded by 10, then 11, and so on until 18. Then we have 2, 3, 4, etc., until 8, and eventually - 9.*"
   ]
  },
  {
   "cell_type": "code",
   "execution_count": 9,
   "metadata": {},
   "outputs": [
    {
     "data": {
      "text/plain": [
       "637     Location 1\n",
       "884     Location 1\n",
       "465     Location 1\n",
       "716    Location 10\n",
       "623    Location 10\n",
       "          ...     \n",
       "482    Location 97\n",
       "128    Location 97\n",
       "669    Location 97\n",
       "757    Location 98\n",
       "372    Location 99\n",
       "Name: Location, Length: 1043, dtype: object"
      ]
     },
     "execution_count": 9,
     "metadata": {},
     "output_type": "execute_result"
    }
   ],
   "source": [
    "region_data.sort_values()"
   ]
  },
  {
   "cell_type": "markdown",
   "metadata": {},
   "source": [
    "Sort the values, setting the *ascending* parameter equal to *True*."
   ]
  },
  {
   "cell_type": "code",
   "execution_count": 10,
   "metadata": {},
   "outputs": [
    {
     "data": {
      "text/plain": [
       "637     Location 1\n",
       "884     Location 1\n",
       "465     Location 1\n",
       "716    Location 10\n",
       "623    Location 10\n",
       "          ...     \n",
       "482    Location 97\n",
       "128    Location 97\n",
       "669    Location 97\n",
       "757    Location 98\n",
       "372    Location 99\n",
       "Name: Location, Length: 1043, dtype: object"
      ]
     },
     "execution_count": 10,
     "metadata": {},
     "output_type": "execute_result"
    }
   ],
   "source": [
    "region_data.sort_values(ascending=True)"
   ]
  },
  {
   "cell_type": "markdown",
   "metadata": {},
   "source": [
    "Sort the values in **region_data** in descending order."
   ]
  },
  {
   "cell_type": "code",
   "execution_count": 11,
   "metadata": {},
   "outputs": [
    {
     "data": {
      "text/plain": [
       "372    Location 99\n",
       "757    Location 98\n",
       "128    Location 97\n",
       "482    Location 97\n",
       "271    Location 97\n",
       "          ...     \n",
       "202    Location 10\n",
       "298    Location 10\n",
       "637     Location 1\n",
       "884     Location 1\n",
       "465     Location 1\n",
       "Name: Location, Length: 1043, dtype: object"
      ]
     },
     "execution_count": 11,
     "metadata": {},
     "output_type": "execute_result"
    }
   ],
   "source": [
    "region_data.sort_values(ascending=False)"
   ]
  },
  {
   "cell_type": "markdown",
   "metadata": {},
   "source": [
    "## Attribute and Method Chaining"
   ]
  },
  {
   "cell_type": "markdown",
   "metadata": {},
   "source": [
    "Load the \"Region.csv\" file and set the *squeeze* option to *True*. Store the information in a variable called **region_data**. Preview the data with the pandas *.head()* method."
   ]
  },
  {
   "cell_type": "code",
   "execution_count": 12,
   "metadata": {},
   "outputs": [
    {
     "name": "stderr",
     "output_type": "stream",
     "text": [
      "C:\\Users\\felip\\AppData\\Local\\Temp/ipykernel_10448/4210519499.py:1: FutureWarning: The squeeze argument has been deprecated and will be removed in a future version. Append .squeeze(\"columns\") to the call to squeeze.\n",
      "\n",
      "\n",
      "  data = pd.read_csv('Location.csv', squeeze = True)\n"
     ]
    },
    {
     "data": {
      "text/plain": [
       "0     Location 3\n",
       "1     Location 6\n",
       "2     Location 8\n",
       "3    Location 26\n",
       "4    Location 34\n",
       "Name: Location, dtype: object"
      ]
     },
     "execution_count": 12,
     "metadata": {},
     "output_type": "execute_result"
    }
   ],
   "source": [
    "data = pd.read_csv('Location.csv', squeeze = True)\n",
    "region_data = data.copy()\n",
    "region_data.head()"
   ]
  },
  {
   "cell_type": "markdown",
   "metadata": {},
   "source": [
    "Use method chaining to obtain the first five rows from the values of **region_data** sorted in ascending order."
   ]
  },
  {
   "cell_type": "code",
   "execution_count": 17,
   "metadata": {},
   "outputs": [
    {
     "data": {
      "text/plain": [
       "637     Location 1\n",
       "884     Location 1\n",
       "465     Location 1\n",
       "716    Location 10\n",
       "623    Location 10\n",
       "Name: Location, dtype: object"
      ]
     },
     "execution_count": 17,
     "metadata": {},
     "output_type": "execute_result"
    }
   ],
   "source": [
    "region_data.sort_values(ascending=True).head()"
   ]
  },
  {
   "cell_type": "markdown",
   "metadata": {},
   "source": [
    "Use method chaining to obtain the first five rows from the values of **region_data** sorted in descending order."
   ]
  },
  {
   "cell_type": "code",
   "execution_count": 18,
   "metadata": {},
   "outputs": [
    {
     "data": {
      "text/plain": [
       "372    Location 99\n",
       "757    Location 98\n",
       "128    Location 97\n",
       "482    Location 97\n",
       "271    Location 97\n",
       "Name: Location, dtype: object"
      ]
     },
     "execution_count": 18,
     "metadata": {},
     "output_type": "execute_result"
    }
   ],
   "source": [
    "region_data.sort_values(ascending=False).head()"
   ]
  },
  {
   "cell_type": "markdown",
   "metadata": {},
   "source": [
    "Execute the next code cell to create a Series object called **emp_birth_date** that contains the employee numbers and the dates of birth of certain 4 employees."
   ]
  },
  {
   "cell_type": "code",
   "execution_count": 19,
   "metadata": {},
   "outputs": [
    {
     "data": {
      "text/plain": [
       "No_0001    1963-08-02\n",
       "No_0002    1964-06-13\n",
       "No_0003    1989-12-04\n",
       "No_0004    1996-04-08\n",
       "dtype: object"
      ]
     },
     "execution_count": 19,
     "metadata": {},
     "output_type": "execute_result"
    }
   ],
   "source": [
    "emp_birth_date = pd.Series({'No_0001':'1963-08-02', 'No_0002':'1964-06-13', 'No_0003':'1989-12-04', 'No_0004':'1996-04-08'})\n",
    "emp_birth_date"
   ]
  },
  {
   "cell_type": "markdown",
   "metadata": {},
   "source": [
    "Obtain just the index of **emp_birth_date**."
   ]
  },
  {
   "cell_type": "code",
   "execution_count": 21,
   "metadata": {},
   "outputs": [
    {
     "data": {
      "text/plain": [
       "Index(['No_0001', 'No_0002', 'No_0003', 'No_0004'], dtype='object')"
      ]
     },
     "execution_count": 21,
     "metadata": {},
     "output_type": "execute_result"
    }
   ],
   "source": [
    "emp_birth_date.index"
   ]
  },
  {
   "cell_type": "markdown",
   "metadata": {},
   "source": [
    "Obtain the row labels of the index, i.e. its values, stored in an array."
   ]
  },
  {
   "cell_type": "code",
   "execution_count": 23,
   "metadata": {},
   "outputs": [
    {
     "data": {
      "text/plain": [
       "array(['No_0001', 'No_0002', 'No_0003', 'No_0004'], dtype=object)"
      ]
     },
     "execution_count": 23,
     "metadata": {},
     "output_type": "execute_result"
    }
   ],
   "source": [
    "emp_birth_date.index.to_numpy()"
   ]
  },
  {
   "cell_type": "markdown",
   "metadata": {},
   "source": [
    "## .sort_index()"
   ]
  },
  {
   "cell_type": "markdown",
   "metadata": {},
   "source": [
    "Load the \"Region.csv\" file and set the *squeeze* option to *True*. Store the information in a variable called **region_data**. Preview the data with the pandas *.head()* method."
   ]
  },
  {
   "cell_type": "code",
   "execution_count": 24,
   "metadata": {},
   "outputs": [
    {
     "name": "stderr",
     "output_type": "stream",
     "text": [
      "C:\\Users\\felip\\AppData\\Local\\Temp/ipykernel_10448/4210519499.py:1: FutureWarning: The squeeze argument has been deprecated and will be removed in a future version. Append .squeeze(\"columns\") to the call to squeeze.\n",
      "\n",
      "\n",
      "  data = pd.read_csv('Location.csv', squeeze = True)\n"
     ]
    },
    {
     "data": {
      "text/plain": [
       "0     Location 3\n",
       "1     Location 6\n",
       "2     Location 8\n",
       "3    Location 26\n",
       "4    Location 34\n",
       "Name: Location, dtype: object"
      ]
     },
     "execution_count": 24,
     "metadata": {},
     "output_type": "execute_result"
    }
   ],
   "source": [
    "data = pd.read_csv('Location.csv', squeeze = True)\n",
    "region_data = data.copy()\n",
    "region_data.head()"
   ]
  },
  {
   "cell_type": "markdown",
   "metadata": {},
   "source": [
    "Overwrite the content of the **region_data** Series as you sort the values in *descending* order. Observe the index of the Series. Is it ordered correctly?"
   ]
  },
  {
   "cell_type": "code",
   "execution_count": 25,
   "metadata": {},
   "outputs": [
    {
     "data": {
      "text/plain": [
       "372    Location 99\n",
       "757    Location 98\n",
       "128    Location 97\n",
       "482    Location 97\n",
       "271    Location 97\n",
       "          ...     \n",
       "202    Location 10\n",
       "298    Location 10\n",
       "637     Location 1\n",
       "884     Location 1\n",
       "465     Location 1\n",
       "Name: Location, Length: 1043, dtype: object"
      ]
     },
     "execution_count": 25,
     "metadata": {},
     "output_type": "execute_result"
    }
   ],
   "source": [
    "region_data = region_data.sort_values(ascending=False)\n",
    "region_data"
   ]
  },
  {
   "cell_type": "markdown",
   "metadata": {},
   "source": [
    "Sort the index of the new version of the **region_data** Series object."
   ]
  },
  {
   "cell_type": "code",
   "execution_count": 27,
   "metadata": {},
   "outputs": [
    {
     "data": {
      "text/plain": [
       "0        Location 3\n",
       "1        Location 6\n",
       "2        Location 8\n",
       "3       Location 26\n",
       "4       Location 34\n",
       "           ...     \n",
       "1038    Location 73\n",
       "1039    Location 82\n",
       "1040    Location 11\n",
       "1041    Location 26\n",
       "1042    Location 94\n",
       "Name: Location, Length: 1043, dtype: object"
      ]
     },
     "execution_count": 27,
     "metadata": {},
     "output_type": "execute_result"
    }
   ],
   "source": [
    "region_data.sort_index()"
   ]
  },
  {
   "cell_type": "markdown",
   "metadata": {},
   "source": [
    "Sort the index of the **region_data** Series in opposite direction. You can do that by setting the *ascending* parameter equal to *False*."
   ]
  },
  {
   "cell_type": "code",
   "execution_count": 29,
   "metadata": {},
   "outputs": [
    {
     "data": {
      "text/plain": [
       "1042    Location 94\n",
       "1041    Location 26\n",
       "1040    Location 11\n",
       "1039    Location 82\n",
       "1038    Location 73\n",
       "           ...     \n",
       "4       Location 34\n",
       "3       Location 26\n",
       "2        Location 8\n",
       "1        Location 6\n",
       "0        Location 3\n",
       "Name: Location, Length: 1043, dtype: object"
      ]
     },
     "execution_count": 29,
     "metadata": {},
     "output_type": "execute_result"
    }
   ],
   "source": [
    "region_data.sort_index(ascending=False)"
   ]
  },
  {
   "cell_type": "code",
   "execution_count": null,
   "metadata": {},
   "outputs": [],
   "source": []
  }
 ],
 "metadata": {
  "anaconda-cloud": {},
  "kernelspec": {
   "display_name": "Python 3 (ipykernel)",
   "language": "python",
   "name": "python3"
  },
  "language_info": {
   "codemirror_mode": {
    "name": "ipython",
    "version": 3
   },
   "file_extension": ".py",
   "mimetype": "text/x-python",
   "name": "python",
   "nbconvert_exporter": "python",
   "pygments_lexer": "ipython3",
   "version": "3.9.7"
  }
 },
 "nbformat": 4,
 "nbformat_minor": 1
}
