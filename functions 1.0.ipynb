{
 "cells": [
  {
   "cell_type": "code",
   "execution_count": 2,
   "id": "2995993b",
   "metadata": {},
   "outputs": [
    {
     "name": "stdout",
     "output_type": "stream",
     "text": [
      "hooray\n"
     ]
    }
   ],
   "source": [
    "if 5 == 15/3:\n",
    "    print(\"hooray\")"
   ]
  },
  {
   "cell_type": "code",
   "execution_count": 4,
   "id": "63073917",
   "metadata": {},
   "outputs": [
    {
     "name": "stdout",
     "output_type": "stream",
     "text": [
      "hooray\n"
     ]
    }
   ],
   "source": [
    "if 5 !=3*6:\n",
    "    print(\"hooray\")"
   ]
  },
  {
   "cell_type": "code",
   "execution_count": 6,
   "id": "8b95d7f1",
   "metadata": {},
   "outputs": [
    {
     "name": "stdout",
     "output_type": "stream",
     "text": [
      "case 2\n"
     ]
    }
   ],
   "source": [
    "x=3\n",
    "\n",
    "if x>3:\n",
    "    print(\"case 1\")\n",
    "else:\n",
    "    print(\"case 2\")"
   ]
  },
  {
   "cell_type": "code",
   "execution_count": 7,
   "id": "a43ac76d",
   "metadata": {},
   "outputs": [],
   "source": [
    "def compare_to_five(y):\n",
    "    if y>5: return \"greater\"\n",
    "    elif y<0: return\"negative\"\n",
    "    elif y<5: return \"less\"\n",
    "    else: return\"equal\"\n",
    "    "
   ]
  },
  {
   "cell_type": "code",
   "execution_count": 2,
   "id": "46f20034",
   "metadata": {},
   "outputs": [
    {
     "data": {
      "text/plain": [
       "'greater'"
      ]
     },
     "execution_count": 2,
     "metadata": {},
     "output_type": "execute_result"
    }
   ],
   "source": [
    "compare_to_five(8)"
   ]
  },
  {
   "cell_type": "code",
   "execution_count": 9,
   "id": "aaa2ea50",
   "metadata": {},
   "outputs": [
    {
     "data": {
      "text/plain": [
       "'less'"
      ]
     },
     "execution_count": 9,
     "metadata": {},
     "output_type": "execute_result"
    }
   ],
   "source": [
    "compare_to_five(2)"
   ]
  },
  {
   "cell_type": "code",
   "execution_count": 4,
   "id": "757023d1",
   "metadata": {},
   "outputs": [
    {
     "data": {
      "text/plain": [
       "'equal'"
      ]
     },
     "execution_count": 4,
     "metadata": {},
     "output_type": "execute_result"
    }
   ],
   "source": [
    "compare_to_five(5)"
   ]
  },
  {
   "cell_type": "code",
   "execution_count": 8,
   "id": "eb9fd7d8",
   "metadata": {},
   "outputs": [
    {
     "data": {
      "text/plain": [
       "'negative'"
      ]
     },
     "execution_count": 8,
     "metadata": {},
     "output_type": "execute_result"
    }
   ],
   "source": [
    "compare_to_five(-2)"
   ]
  },
  {
   "cell_type": "code",
   "execution_count": null,
   "id": "3d979736",
   "metadata": {},
   "outputs": [],
   "source": []
  }
 ],
 "metadata": {
  "kernelspec": {
   "display_name": "Python 3 (ipykernel)",
   "language": "python",
   "name": "python3"
  },
  "language_info": {
   "codemirror_mode": {
    "name": "ipython",
    "version": 3
   },
   "file_extension": ".py",
   "mimetype": "text/x-python",
   "name": "python",
   "nbconvert_exporter": "python",
   "pygments_lexer": "ipython3",
   "version": "3.9.7"
  }
 },
 "nbformat": 4,
 "nbformat_minor": 5
}
